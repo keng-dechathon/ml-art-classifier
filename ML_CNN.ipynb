{
  "nbformat": 4,
  "nbformat_minor": 0,
  "metadata": {
    "colab": {
      "provenance": [],
      "include_colab_link": true
    },
    "kernelspec": {
      "display_name": "Python 3",
      "name": "python3"
    },
    "language_info": {
      "name": "python"
    }
  },
  "cells": [
    {
      "cell_type": "markdown",
      "metadata": {
        "id": "view-in-github",
        "colab_type": "text"
      },
      "source": [
        "<a href=\"https://colab.research.google.com/github/keng-dechathon/ml-art-classifier/blob/main/ML_CNN.ipynb\" target=\"_parent\"><img src=\"https://colab.research.google.com/assets/colab-badge.svg\" alt=\"Open In Colab\"/></a>"
      ]
    },
    {
      "cell_type": "code",
      "metadata": {
        "id": "mzGEpN7wU3NB",
        "colab": {
          "base_uri": "https://localhost:8080/"
        },
        "outputId": "0b3ad252-017f-4f9b-f170-fad62eb34165"
      },
      "source": [
        "from google.colab import drive\n",
        "drive.mount('/content/drive')"
      ],
      "execution_count": null,
      "outputs": [
        {
          "output_type": "stream",
          "name": "stdout",
          "text": [
            "Mounted at /content/drive\n"
          ]
        }
      ]
    },
    {
      "cell_type": "code",
      "metadata": {
        "id": "Xe-LvlgFV2BE"
      },
      "source": [
        "import os\n",
        "from os.path import join\n",
        "import cv2\n",
        "import numpy as np\n",
        "import pandas as pd\n",
        "from sklearn.model_selection import train_test_split\n",
        "import matplotlib.pyplot as plt\n",
        "import skimage.io\n",
        "import skimage.transform\n",
        "import keras\n",
        "from keras.models import Sequential\n",
        "from keras.layers import Dense, Conv2D, Flatten, MaxPool2D, Dropout\n",
        "from keras.callbacks import ModelCheckpoint\n",
        "from keras.preprocessing.image import ImageDataGenerator\n",
        "import tensorflow\n",
        "\n"
      ],
      "execution_count": null,
      "outputs": []
    },
    {
      "cell_type": "code",
      "metadata": {
        "id": "3UEbeUvNUCDc"
      },
      "source": [
        "training_dataset_path = \"/content/drive/MyDrive/ML/archive/dataset/dataset_updated/training_set\"\n",
        "test_dataset_path = \"/content/drive/MyDrive/ML/archive/dataset/dataset_updated/validation_set\"\n",
        "\n",
        "categories = ['drawings', 'engraving', 'iconography', 'painting', 'sculpture']\n",
        "n_categories = len(categories)\n",
        "category_embeddings = {\n",
        "    'drawings': 0,\n",
        "    'engraving': 1,\n",
        "    'iconography': 2,\n",
        "    'painting': 3,\n",
        "    'sculpture': 4\n",
        "}\n",
        "\n",
        "width = 128 \n",
        "height = 128 \n",
        "n_channels = 3"
      ],
      "execution_count": null,
      "outputs": []
    },
    {
      "cell_type": "code",
      "metadata": {
        "id": "jwxS0yrnSPwi"
      },
      "source": [
        "training_data = []\n",
        "for cat in categories:\n",
        "    files = os.listdir(os.path.join(training_dataset_path, cat))\n",
        "    for file in files:\n",
        "        training_data += [(os.path.join(cat, file), cat)]\n",
        "\n",
        "test_data = []\n",
        "for cat in categories:\n",
        "    files = os.listdir(os.path.join(test_dataset_path, cat))\n",
        "    for file in files:\n",
        "        test_data += [(os.path.join(cat, file), cat)]"
      ],
      "execution_count": null,
      "outputs": []
    },
    {
      "cell_type": "code",
      "metadata": {
        "id": "QVwY9pXmUhgE",
        "colab": {
          "base_uri": "https://localhost:8080/"
        },
        "outputId": "3ef2fc70-8be3-4874-e264-e99bcf16fcb2"
      },
      "source": [
        "def load_dataset(tuples_list, dataset_path):\n",
        "    indexes = np.arange(len(tuples_list))\n",
        "    np.random.shuffle(indexes)   \n",
        "    X = []\n",
        "    y = []\n",
        "    n_samples = len(indexes)\n",
        "    cpt = 0\n",
        "\n",
        "    for i in range(n_samples):\n",
        "        t = tuples_list[indexes[i]]\n",
        "        try:\n",
        "            img = cv2.imread(join(dataset_path, t[0]))   \n",
        "            if img is not None:        \n",
        "              img = cv2.resize(img,(width,height))           \n",
        "              X += [img]\n",
        "              y_tmp = [0 for _ in range(n_categories)]\n",
        "              y_tmp[category_embeddings[t[1]]] = 1\n",
        "              y += [y_tmp]\n",
        "        except OSError:\n",
        "            pass        \n",
        "        cpt += 1\n",
        "         \n",
        "        if cpt % 1000 == 0:\n",
        "            print(\"Processed {} images\".format(cpt))\n",
        "                   \n",
        "    X = np.array(X)\n",
        "    y = np.array(y)\n",
        "    \n",
        "    return X, y\n",
        "\n",
        "X_train, y_train = load_dataset(training_data, training_dataset_path)\n",
        "X_val, y_val = load_dataset(test_data, test_dataset_path)"
      ],
      "execution_count": null,
      "outputs": [
        {
          "output_type": "stream",
          "name": "stdout",
          "text": [
            "Processed 1000 images\n",
            "Processed 2000 images\n",
            "Processed 3000 images\n",
            "Processed 4000 images\n",
            "Processed 5000 images\n",
            "Processed 6000 images\n",
            "Processed 7000 images\n"
          ]
        }
      ]
    },
    {
      "cell_type": "code",
      "metadata": {
        "id": "615zwoRPYhpI"
      },
      "source": [
        "train_datagen = ImageDataGenerator(\n",
        "    rotation_range=20,\n",
        "    zoom_range=0.15,\n",
        "    horizontal_flip=True)\n",
        "\n",
        "train_datagen.fit(X_train)"
      ],
      "execution_count": null,
      "outputs": []
    },
    {
      "cell_type": "code",
      "metadata": {
        "id": "46L361ilafxd",
        "colab": {
          "base_uri": "https://localhost:8080/"
        },
        "outputId": "53ca3a49-5cea-457c-9738-caaa3e9cdcb0"
      },
      "source": [
        "model = Sequential()\n",
        "model.add(Conv2D(32, kernel_size=5, input_shape=(width, height, n_channels), activation='relu'))\n",
        "model.add(MaxPool2D(pool_size=(2, 2)))\n",
        "model.add(Conv2D(48, kernel_size=3, activation='relu'))\n",
        "model.add(MaxPool2D(pool_size=(2, 2)))\n",
        "model.add(Dropout(0.35))\n",
        "model.add(Flatten())\n",
        "model.add(Dense(256, activation='relu'))\n",
        "model.add(Dropout(0.25))\n",
        "model.add(Dense(n_categories, activation='softmax'))\n",
        "model.compile(optimizer='adam', loss='categorical_crossentropy', metrics=['accuracy'])\n",
        "model.summary()"
      ],
      "execution_count": null,
      "outputs": [
        {
          "output_type": "stream",
          "name": "stdout",
          "text": [
            "Model: \"sequential_1\"\n",
            "_________________________________________________________________\n",
            " Layer (type)                Output Shape              Param #   \n",
            "=================================================================\n",
            " conv2d_2 (Conv2D)           (None, 124, 124, 32)      2432      \n",
            "                                                                 \n",
            " max_pooling2d_2 (MaxPooling  (None, 62, 62, 32)       0         \n",
            " 2D)                                                             \n",
            "                                                                 \n",
            " conv2d_3 (Conv2D)           (None, 60, 60, 48)        13872     \n",
            "                                                                 \n",
            " max_pooling2d_3 (MaxPooling  (None, 30, 30, 48)       0         \n",
            " 2D)                                                             \n",
            "                                                                 \n",
            " dropout_2 (Dropout)         (None, 30, 30, 48)        0         \n",
            "                                                                 \n",
            " flatten_1 (Flatten)         (None, 43200)             0         \n",
            "                                                                 \n",
            " dense_2 (Dense)             (None, 256)               11059456  \n",
            "                                                                 \n",
            " dropout_3 (Dropout)         (None, 256)               0         \n",
            "                                                                 \n",
            " dense_3 (Dense)             (None, 5)                 1285      \n",
            "                                                                 \n",
            "=================================================================\n",
            "Total params: 11,077,045\n",
            "Trainable params: 11,077,045\n",
            "Non-trainable params: 0\n",
            "_________________________________________________________________\n"
          ]
        }
      ]
    },
    {
      "cell_type": "code",
      "metadata": {
        "id": "paW4cFUjakU7",
        "colab": {
          "base_uri": "https://localhost:8080/"
        },
        "outputId": "f7c1783f-9d7a-40a1-904b-09d66bafa12c"
      },
      "source": [
        "train_generator = train_datagen.flow(X_train, y_train, batch_size=64)\n",
        "training_result = model.fit_generator(generator=train_generator,\n",
        "                                      validation_data=(X_val, y_val),\n",
        "                                      epochs=50,\n",
        "                                      verbose=1,\n",
        "                                      steps_per_epoch=len(X_train) / 64)"
      ],
      "execution_count": null,
      "outputs": [
        {
          "output_type": "stream",
          "name": "stderr",
          "text": [
            "/usr/local/lib/python3.7/dist-packages/ipykernel_launcher.py:6: UserWarning: `Model.fit_generator` is deprecated and will be removed in a future version. Please use `Model.fit`, which supports generators.\n",
            "  \n"
          ]
        },
        {
          "output_type": "stream",
          "name": "stdout",
          "text": [
            "Epoch 1/50\n",
            "120/120 [==============================] - 220s 2s/step - loss: 37.2237 - accuracy: 0.4739 - val_loss: 1.1041 - val_accuracy: 0.5958\n",
            "Epoch 2/50\n",
            "120/120 [==============================] - 212s 2s/step - loss: 1.0992 - accuracy: 0.5967 - val_loss: 0.9748 - val_accuracy: 0.6425\n",
            "Epoch 3/50\n",
            "120/120 [==============================] - 217s 2s/step - loss: 0.9941 - accuracy: 0.6396 - val_loss: 0.8834 - val_accuracy: 0.6799\n",
            "Epoch 4/50\n",
            "120/120 [==============================] - 214s 2s/step - loss: 0.8966 - accuracy: 0.6794 - val_loss: 0.8092 - val_accuracy: 0.7290\n",
            "Epoch 5/50\n",
            "120/120 [==============================] - 214s 2s/step - loss: 0.8676 - accuracy: 0.6879 - val_loss: 0.8372 - val_accuracy: 0.7033\n",
            "Epoch 6/50\n",
            "120/120 [==============================] - 214s 2s/step - loss: 0.8309 - accuracy: 0.7009 - val_loss: 0.7963 - val_accuracy: 0.7161\n",
            "Epoch 7/50\n",
            "120/120 [==============================] - 214s 2s/step - loss: 0.8077 - accuracy: 0.7122 - val_loss: 0.7995 - val_accuracy: 0.7079\n",
            "Epoch 8/50\n",
            "120/120 [==============================] - 214s 2s/step - loss: 0.7877 - accuracy: 0.7200 - val_loss: 0.7918 - val_accuracy: 0.7126\n",
            "Epoch 9/50\n",
            "120/120 [==============================] - 214s 2s/step - loss: 0.7906 - accuracy: 0.7098 - val_loss: 0.7948 - val_accuracy: 0.7138\n",
            "Epoch 10/50\n",
            "120/120 [==============================] - 218s 2s/step - loss: 0.7916 - accuracy: 0.7180 - val_loss: 0.7372 - val_accuracy: 0.7383\n",
            "Epoch 11/50\n",
            "120/120 [==============================] - 215s 2s/step - loss: 0.7699 - accuracy: 0.7218 - val_loss: 0.7363 - val_accuracy: 0.7336\n",
            "Epoch 12/50\n",
            "120/120 [==============================] - 215s 2s/step - loss: 0.7658 - accuracy: 0.7259 - val_loss: 0.6933 - val_accuracy: 0.7675\n",
            "Epoch 13/50\n",
            "120/120 [==============================] - 216s 2s/step - loss: 0.7574 - accuracy: 0.7267 - val_loss: 0.6787 - val_accuracy: 0.7687\n",
            "Epoch 14/50\n",
            "120/120 [==============================] - 221s 2s/step - loss: 0.7005 - accuracy: 0.7472 - val_loss: 0.7623 - val_accuracy: 0.7336\n",
            "Epoch 15/50\n",
            "120/120 [==============================] - 216s 2s/step - loss: 0.6978 - accuracy: 0.7521 - val_loss: 0.6683 - val_accuracy: 0.7500\n",
            "Epoch 16/50\n",
            "120/120 [==============================] - 217s 2s/step - loss: 0.6447 - accuracy: 0.7641 - val_loss: 0.7468 - val_accuracy: 0.7360\n",
            "Epoch 17/50\n",
            "120/120 [==============================] - 218s 2s/step - loss: 0.6723 - accuracy: 0.7599 - val_loss: 0.6689 - val_accuracy: 0.7582\n",
            "Epoch 18/50\n",
            "120/120 [==============================] - 218s 2s/step - loss: 0.6615 - accuracy: 0.7565 - val_loss: 0.6448 - val_accuracy: 0.7640\n",
            "Epoch 19/50\n",
            "120/120 [==============================] - 218s 2s/step - loss: 0.7064 - accuracy: 0.7455 - val_loss: 0.7600 - val_accuracy: 0.7220\n",
            "Epoch 20/50\n",
            "120/120 [==============================] - 217s 2s/step - loss: 0.6740 - accuracy: 0.7566 - val_loss: 0.6819 - val_accuracy: 0.7477\n",
            "Epoch 21/50\n",
            "120/120 [==============================] - 216s 2s/step - loss: 0.6358 - accuracy: 0.7728 - val_loss: 0.6833 - val_accuracy: 0.7593\n",
            "Epoch 22/50\n",
            "120/120 [==============================] - 215s 2s/step - loss: 0.6274 - accuracy: 0.7750 - val_loss: 0.6256 - val_accuracy: 0.7745\n",
            "Epoch 23/50\n",
            "120/120 [==============================] - 215s 2s/step - loss: 0.6457 - accuracy: 0.7678 - val_loss: 0.7648 - val_accuracy: 0.7395\n",
            "Epoch 24/50\n",
            "120/120 [==============================] - 214s 2s/step - loss: 0.6083 - accuracy: 0.7779 - val_loss: 0.5863 - val_accuracy: 0.7827\n",
            "Epoch 25/50\n",
            "120/120 [==============================] - 214s 2s/step - loss: 0.6045 - accuracy: 0.7810 - val_loss: 0.5746 - val_accuracy: 0.7921\n",
            "Epoch 26/50\n",
            "120/120 [==============================] - 214s 2s/step - loss: 0.5784 - accuracy: 0.7912 - val_loss: 0.6195 - val_accuracy: 0.7722\n",
            "Epoch 27/50\n",
            "120/120 [==============================] - 214s 2s/step - loss: 0.5681 - accuracy: 0.7923 - val_loss: 0.5555 - val_accuracy: 0.7839\n",
            "Epoch 28/50\n",
            "120/120 [==============================] - 214s 2s/step - loss: 0.5628 - accuracy: 0.8033 - val_loss: 0.5942 - val_accuracy: 0.7850\n",
            "Epoch 29/50\n",
            "120/120 [==============================] - 214s 2s/step - loss: 0.5510 - accuracy: 0.7981 - val_loss: 0.6078 - val_accuracy: 0.7535\n",
            "Epoch 30/50\n",
            "120/120 [==============================] - 214s 2s/step - loss: 0.5625 - accuracy: 0.7989 - val_loss: 0.6367 - val_accuracy: 0.7769\n",
            "Epoch 31/50\n",
            "120/120 [==============================] - 214s 2s/step - loss: 0.5372 - accuracy: 0.8043 - val_loss: 0.5607 - val_accuracy: 0.8026\n",
            "Epoch 32/50\n",
            "120/120 [==============================] - 215s 2s/step - loss: 0.5305 - accuracy: 0.8039 - val_loss: 0.5602 - val_accuracy: 0.7967\n",
            "Epoch 33/50\n",
            "120/120 [==============================] - 214s 2s/step - loss: 0.5125 - accuracy: 0.8162 - val_loss: 0.5597 - val_accuracy: 0.8002\n",
            "Epoch 34/50\n",
            "120/120 [==============================] - 215s 2s/step - loss: 0.5223 - accuracy: 0.8055 - val_loss: 0.6948 - val_accuracy: 0.7710\n",
            "Epoch 35/50\n",
            "120/120 [==============================] - 214s 2s/step - loss: 0.5159 - accuracy: 0.8145 - val_loss: 0.5940 - val_accuracy: 0.7769\n",
            "Epoch 36/50\n",
            "120/120 [==============================] - 214s 2s/step - loss: 0.5015 - accuracy: 0.8175 - val_loss: 0.5578 - val_accuracy: 0.8014\n",
            "Epoch 37/50\n",
            "120/120 [==============================] - 214s 2s/step - loss: 0.5023 - accuracy: 0.8150 - val_loss: 0.5770 - val_accuracy: 0.7886\n",
            "Epoch 38/50\n",
            "120/120 [==============================] - 214s 2s/step - loss: 0.4906 - accuracy: 0.8162 - val_loss: 0.5344 - val_accuracy: 0.7956\n",
            "Epoch 39/50\n",
            "120/120 [==============================] - 214s 2s/step - loss: 0.5001 - accuracy: 0.8158 - val_loss: 0.5742 - val_accuracy: 0.7780\n",
            "Epoch 40/50\n",
            "120/120 [==============================] - 213s 2s/step - loss: 0.4751 - accuracy: 0.8239 - val_loss: 0.5672 - val_accuracy: 0.8166\n",
            "Epoch 41/50\n",
            "120/120 [==============================] - 213s 2s/step - loss: 0.4628 - accuracy: 0.8267 - val_loss: 0.5633 - val_accuracy: 0.8107\n",
            "Epoch 42/50\n",
            "120/120 [==============================] - 213s 2s/step - loss: 0.4893 - accuracy: 0.8237 - val_loss: 0.6188 - val_accuracy: 0.7640\n",
            "Epoch 43/50\n",
            "120/120 [==============================] - 213s 2s/step - loss: 0.4790 - accuracy: 0.8259 - val_loss: 0.5766 - val_accuracy: 0.7886\n",
            "Epoch 44/50\n",
            "120/120 [==============================] - 212s 2s/step - loss: 0.4615 - accuracy: 0.8264 - val_loss: 0.5790 - val_accuracy: 0.7932\n",
            "Epoch 45/50\n",
            "120/120 [==============================] - 211s 2s/step - loss: 0.4941 - accuracy: 0.8215 - val_loss: 0.5464 - val_accuracy: 0.8049\n",
            "Epoch 46/50\n",
            "120/120 [==============================] - 210s 2s/step - loss: 0.4631 - accuracy: 0.8264 - val_loss: 0.5080 - val_accuracy: 0.8096\n",
            "Epoch 47/50\n",
            "120/120 [==============================] - 211s 2s/step - loss: 0.4447 - accuracy: 0.8334 - val_loss: 0.5314 - val_accuracy: 0.8119\n",
            "Epoch 48/50\n",
            "120/120 [==============================] - 212s 2s/step - loss: 0.4663 - accuracy: 0.8277 - val_loss: 0.5032 - val_accuracy: 0.8084\n",
            "Epoch 49/50\n",
            "120/120 [==============================] - 211s 2s/step - loss: 0.4555 - accuracy: 0.8378 - val_loss: 0.4854 - val_accuracy: 0.8213\n",
            "Epoch 50/50\n",
            "120/120 [==============================] - 211s 2s/step - loss: 0.4418 - accuracy: 0.8343 - val_loss: 0.6055 - val_accuracy: 0.7932\n"
          ]
        }
      ]
    },
    {
      "cell_type": "code",
      "metadata": {
        "colab": {
          "base_uri": "https://localhost:8080/"
        },
        "id": "2b0_lTj779m7",
        "outputId": "d0310871-51b4-423c-91f0-4ad476475f07"
      },
      "source": [
        "model.save(\"/content/drive/MyDrive/ML/model\")"
      ],
      "execution_count": null,
      "outputs": [
        {
          "output_type": "stream",
          "name": "stdout",
          "text": [
            "INFO:tensorflow:Assets written to: /content/drive/MyDrive/ML/model/assets\n"
          ]
        }
      ]
    },
    {
      "cell_type": "code",
      "metadata": {
        "id": "-NQIgZBOal9Q",
        "colab": {
          "base_uri": "https://localhost:8080/",
          "height": 225
        },
        "outputId": "e9ce52f6-a72f-4e18-a581-c4c8723dbc6b"
      },
      "source": [
        "fig, axes = plt.subplots(nrows=1, ncols=2, figsize=(15, 3))\n",
        "\n",
        "#Loss\n",
        "axes[0].plot(training_result.history['loss'], label=\"Loss\")\n",
        "axes[0].plot(training_result.history['val_loss'], label=\"Validation loss\")\n",
        "axes[0].set_title('Loss')\n",
        "axes[0].set_xlabel('Epoch')\n",
        "axes[0].set_ylabel('Loss')\n",
        "axes[0].legend()\n",
        "\n",
        "# Accuracy\n",
        "axes[1].plot(training_result.history['accuracy'], label=\"Accuracy\")\n",
        "axes[1].plot(training_result.history['val_accuracy'], label=\"Validation accuracy\")\n",
        "axes[1].set_title('Accuracy')\n",
        "axes[1].set_xlabel('Epoch')\n",
        "axes[1].set_ylabel('Accuracy')\n",
        "axes[1].legend()\n",
        "plt.tight_layout()\n",
        "\n",
        "plt.show()"
      ],
      "execution_count": null,
      "outputs": [
        {
          "output_type": "display_data",
          "data": {
            "image/png": "[encoded data removed]",
            "text/plain": [
              "<Figure size 1080x216 with 2 Axes>"
            ]
          },
          "metadata": {
            "needs_background": "light"
          }
        }
      ]
    },
    {
      "cell_type": "code",
      "metadata": {
        "id": "V49oG48jy5mq",
        "colab": {
          "base_uri": "https://localhost:8080/"
        },
        "outputId": "965877ff-1020-421b-b7d4-28ea58a15c16"
      },
      "source": [
        "from sklearn.metrics import classification_report\n",
        "\n",
        "X_test = []\n",
        "y_test = []\n",
        "for t in test_data:\n",
        "    try:\n",
        "        img = cv2.imread(os.path.join(test_dataset_path, t[0]))\n",
        "        if img is not None:\n",
        "          img = cv2.resize(img,(width,height))\n",
        "          X_test += [img]\n",
        "          y_test += [category_embeddings[t[1]]]\n",
        "    except OSError:\n",
        "        pass\n",
        "\n",
        "X_test = np.array(X_test)\n",
        "y_test = np.array(y_test)\n",
        "\n",
        "pred = model.predict(X_test, verbose=1)\n",
        "\n",
        "y_pred = np.argmax(pred, axis=1)\n",
        "print(classification_report(y_test, y_pred))"
      ],
      "execution_count": null,
      "outputs": [
        {
          "output_type": "stream",
          "name": "stdout",
          "text": [
            "27/27 [==============================] - 6s 212ms/step\n",
            "              precision    recall  f1-score   support\n",
            "\n",
            "           0       0.54      0.49      0.51       122\n",
            "           1       0.61      0.73      0.66        84\n",
            "           2       0.83      0.97      0.89       231\n",
            "           3       0.99      0.79      0.88       228\n",
            "           4       0.80      0.82      0.81       191\n",
            "\n",
            "    accuracy                           0.79       856\n",
            "   macro avg       0.75      0.76      0.75       856\n",
            "weighted avg       0.80      0.79      0.79       856\n",
            "\n"
          ]
        }
      ]
    }
  ]
}